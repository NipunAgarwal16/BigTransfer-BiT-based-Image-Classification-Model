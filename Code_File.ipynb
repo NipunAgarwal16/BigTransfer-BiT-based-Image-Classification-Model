{
  "nbformat": 4,
  "nbformat_minor": 0,
  "metadata": {
    "colab": {
      "name": "Code File",
      "provenance": [],
      "collapsed_sections": [],
      "authorship_tag": "ABX9TyMH9SUDu9F1P4MviVRkF3xp"
    },
    "kernelspec": {
      "name": "python3",
      "display_name": "Python 3"
    },
    "language_info": {
      "name": "python"
    }
  },
  "cells": [
    {
      "cell_type": "markdown",
      "source": [
        "## **Setup**"
      ],
      "metadata": {
        "id": "0lJjlP-dpVDg"
      }
    },
    {
      "cell_type": "code",
      "execution_count": null,
      "metadata": {
        "id": "7Zm7uSXDo6Xo"
      },
      "outputs": [],
      "source": [
        "import numpy as np\n",
        "import pandas as pd\n",
        "import matplotlib.pyplot as plt\n",
        "\n",
        "import tensorflow as tf\n",
        "from tensorflow import keras\n",
        "import tensorflow_hub as hub\n",
        "import tensorflow_datasets as tfds\n",
        "\n",
        "tfds.disable_progress_bar()\n",
        "\n",
        "SEEDS = 42\n",
        "\n",
        "np.random.seed(SEEDS)\n",
        "tf.random.set_seed(SEEDS)"
      ]
    },
    {
      "cell_type": "markdown",
      "source": [
        "## **Gathering Flower Dataset**"
      ],
      "metadata": {
        "id": "zRjrtLwPpZ2n"
      }
    },
    {
      "cell_type": "code",
      "source": [
        "train_ds, validation_ds = tfds.load(\n",
        "    \"tf_flowers\", split=[\"train[:85%]\", \"train[85%:]\"], as_supervised=True,\n",
        ")"
      ],
      "metadata": {
        "id": "yqT1Sf-fpePI"
      },
      "execution_count": null,
      "outputs": []
    },
    {
      "cell_type": "markdown",
      "source": [
        "## **Dataset Visualisation**"
      ],
      "metadata": {
        "id": "nmNU4Ewmpl0Q"
      }
    },
    {
      "cell_type": "code",
      "source": [
        "plt.figure(figsize=(10, 10))\n",
        "for i, (image, label) in enumerate(train_ds.take(9)):\n",
        "    ax = plt.subplot(3, 3, i + 1)\n",
        "    plt.imshow(image)\n",
        "    plt.title(int(label))\n",
        "    plt.axis(\"off\")"
      ],
      "metadata": {
        "id": "BqVy2Fn2psSR"
      },
      "execution_count": null,
      "outputs": []
    },
    {
      "cell_type": "markdown",
      "source": [
        "## **Defining hyperparameters**"
      ],
      "metadata": {
        "id": "xowcNrGDpuvv"
      }
    },
    {
      "cell_type": "code",
      "source": [
        "RESIZE_TO = 384\n",
        "CROP_TO = 224\n",
        "BATCH_SIZE = 64\n",
        "STEPS_PER_EPOCH = 10\n",
        "AUTO = tf.data.AUTOTUNE  # optimise the pipeline performance\n",
        "NUM_CLASSES = 5  # number of classes\n",
        "SCHEDULE_LENGTH = (\n",
        "    500  # we will train on lower resolution images and will still attain good results\n",
        ")\n",
        "SCHEDULE_BOUNDARIES = [\n",
        "    200,\n",
        "    300,\n",
        "    400,\n",
        "]  # more the dataset size the schedule length increase"
      ],
      "metadata": {
        "id": "YUXsvrCcpwIn"
      },
      "execution_count": null,
      "outputs": []
    },
    {
      "cell_type": "markdown",
      "source": [
        "## **Defining preprocessing helper functions**"
      ],
      "metadata": {
        "id": "sQldgl22p1xL"
      }
    },
    {
      "cell_type": "code",
      "source": [
        "SCHEDULE_LENGTH = SCHEDULE_LENGTH * 512 / BATCH_SIZE\n",
        "\n",
        "\n",
        "@tf.function\n",
        "def preprocess_train(image, label):\n",
        "    image = tf.image.random_flip_left_right(image)\n",
        "    image = tf.image.resize(image, (RESIZE_TO, RESIZE_TO))\n",
        "    image = tf.image.random_crop(image, (CROP_TO, CROP_TO, 3))\n",
        "    image = image / 255.0\n",
        "    return (image, label)\n",
        "\n",
        "\n",
        "@tf.function\n",
        "def preprocess_test(image, label):\n",
        "    image = tf.image.resize(image, (RESIZE_TO, RESIZE_TO))\n",
        "    image = image / 255.0\n",
        "    return (image, label)\n",
        "\n",
        "\n",
        "DATASET_NUM_TRAIN_EXAMPLES = train_ds.cardinality().numpy()\n",
        "\n",
        "repeat_count = int(\n",
        "    SCHEDULE_LENGTH * BATCH_SIZE / DATASET_NUM_TRAIN_EXAMPLES * STEPS_PER_EPOCH\n",
        ")\n",
        "repeat_count += 50 + 1  # To ensure at least there are 50 epochs of training"
      ],
      "metadata": {
        "id": "MZzMaEsSpwPS"
      },
      "execution_count": null,
      "outputs": []
    },
    {
      "cell_type": "markdown",
      "source": [
        "## **Defining data pipeline**"
      ],
      "metadata": {
        "id": "IlNWqFmwp6cA"
      }
    },
    {
      "cell_type": "code",
      "source": [
        "# Training pipeline\n",
        "pipeline_train = (\n",
        "    train_ds.shuffle(10000)\n",
        "    .repeat(repeat_count)  # Repeat dataset_size / num_steps\n",
        "    .map(preprocess_train, num_parallel_calls=AUTO)\n",
        "    .batch(BATCH_SIZE)\n",
        "    .prefetch(AUTO)\n",
        ")\n",
        "\n",
        "# Validation pipeline\n",
        "pipeline_validation = (\n",
        "    validation_ds.map(preprocess_test, num_parallel_calls=AUTO)\n",
        "    .batch(BATCH_SIZE)\n",
        "    .prefetch(AUTO)\n",
        ")"
      ],
      "metadata": {
        "id": "3fN77GDip9Tx"
      },
      "execution_count": null,
      "outputs": []
    },
    {
      "cell_type": "markdown",
      "source": [
        "## **Visualising the training samples**"
      ],
      "metadata": {
        "id": "ydnWBjwQqADv"
      }
    },
    {
      "cell_type": "code",
      "source": [
        "image_batch, label_batch = next(iter(pipeline_train))\n",
        "\n",
        "plt.figure(figsize=(10, 10))\n",
        "for n in range(25):\n",
        "    ax = plt.subplot(5, 5, n + 1)\n",
        "    plt.imshow(image_batch[n])\n",
        "    plt.title(label_batch[n].numpy())\n",
        "    plt.axis(\"off\")"
      ],
      "metadata": {
        "id": "VGjRVr5sqCLi"
      },
      "execution_count": null,
      "outputs": []
    },
    {
      "cell_type": "markdown",
      "source": [
        "## **Loading pretrained TF-Hub model into a KerasLayer**"
      ],
      "metadata": {
        "id": "BJxLBglFqEuQ"
      }
    },
    {
      "cell_type": "code",
      "source": [
        "bit_model_url = \"https://tfhub.dev/google/bit/m-r50x1/1\"\n",
        "bit_module = hub.KerasLayer(bit_model_url)"
      ],
      "metadata": {
        "id": "Ot2_mQsbqGZn"
      },
      "execution_count": null,
      "outputs": []
    },
    {
      "cell_type": "markdown",
      "source": [
        "## **Creating BigTransfer (BiT) model**"
      ],
      "metadata": {
        "id": "lAjCsztDqIry"
      }
    },
    {
      "cell_type": "code",
      "source": [
        "class MyBiTModel(keras.Model):\n",
        "    def __init__(self, num_classes, module, **kwargs):\n",
        "        super().__init__(**kwargs)\n",
        "\n",
        "        self.num_classes = num_classes\n",
        "        self.head = keras.layers.Dense(num_classes, kernel_initializer=\"zeros\")\n",
        "        self.bit_model = module\n",
        "\n",
        "    def call(self, images):\n",
        "        bit_embedding = self.bit_model(images)\n",
        "        return self.head(bit_embedding)\n",
        "\n",
        "\n",
        "model = MyBiTModel(num_classes=NUM_CLASSES, module=bit_module)"
      ],
      "metadata": {
        "id": "0jsvHZwfqKYi"
      },
      "execution_count": null,
      "outputs": []
    },
    {
      "cell_type": "markdown",
      "source": [
        "## **Defining optimizer and loss**"
      ],
      "metadata": {
        "id": "AmEB_3G5qNVo"
      }
    },
    {
      "cell_type": "code",
      "source": [
        "learning_rate = 0.003 * BATCH_SIZE / 512\n",
        "\n",
        "# Decay learning rate by a factor of 10 at SCHEDULE_BOUNDARIES.\n",
        "lr_schedule = keras.optimizers.schedules.PiecewiseConstantDecay(\n",
        "    boundaries=SCHEDULE_BOUNDARIES,\n",
        "    values=[\n",
        "        learning_rate,\n",
        "        learning_rate * 0.1,\n",
        "        learning_rate * 0.01,\n",
        "        learning_rate * 0.001,\n",
        "    ],\n",
        ")\n",
        "optimizer = keras.optimizers.SGD(learning_rate=lr_schedule, momentum=0.9)\n",
        "\n",
        "loss_fn = keras.losses.SparseCategoricalCrossentropy(from_logits=True)"
      ],
      "metadata": {
        "id": "Bj-k9KwsqPRq"
      },
      "execution_count": null,
      "outputs": []
    },
    {
      "cell_type": "markdown",
      "source": [
        "## **Compiling the model**"
      ],
      "metadata": {
        "id": "aNwE2VjjqR7I"
      }
    },
    {
      "cell_type": "code",
      "source": [
        "model.compile(optimizer=optimizer, loss=loss_fn, metrics=[\"accuracy\"])"
      ],
      "metadata": {
        "id": "l9Zi9iQiqTPv"
      },
      "execution_count": null,
      "outputs": []
    },
    {
      "cell_type": "markdown",
      "source": [
        "## **Setting up callbacks**"
      ],
      "metadata": {
        "id": "cpTRwd_fqV0X"
      }
    },
    {
      "cell_type": "code",
      "source": [
        "train_callbacks = [\n",
        "    keras.callbacks.EarlyStopping(\n",
        "        monitor=\"val_accuracy\", patience=2, restore_best_weights=True\n",
        "    )\n",
        "]"
      ],
      "metadata": {
        "id": "LsDG1_w_qYap"
      },
      "execution_count": null,
      "outputs": []
    },
    {
      "cell_type": "markdown",
      "source": [
        "## **Training the Model**"
      ],
      "metadata": {
        "id": "KP4bjgazqafQ"
      }
    },
    {
      "cell_type": "code",
      "source": [
        "history = model.fit(\n",
        "    pipeline_train,\n",
        "    batch_size=BATCH_SIZE,\n",
        "    epochs=int(SCHEDULE_LENGTH / STEPS_PER_EPOCH),\n",
        "    steps_per_epoch=STEPS_PER_EPOCH,\n",
        "    validation_data=pipeline_validation,\n",
        "    callbacks=train_callbacks,\n",
        ")"
      ],
      "metadata": {
        "id": "cuGuivoFqiQ4"
      },
      "execution_count": null,
      "outputs": []
    },
    {
      "cell_type": "markdown",
      "source": [
        "## **Plotting the training and validation metrics**"
      ],
      "metadata": {
        "id": "DiQPIsGwqkey"
      }
    },
    {
      "cell_type": "code",
      "source": [
        "def plot_hist(hist):\n",
        "    plt.plot(hist.history[\"accuracy\"])\n",
        "    plt.plot(hist.history[\"val_accuracy\"])\n",
        "    plt.plot(hist.history[\"loss\"])\n",
        "    plt.plot(hist.history[\"val_loss\"])\n",
        "    plt.title(\"Training Progress\")\n",
        "    plt.ylabel(\"Accuracy/Loss\")\n",
        "    plt.xlabel(\"Epochs\")\n",
        "    plt.legend([\"train_acc\", \"val_acc\", \"train_loss\", \"val_loss\"], loc=\"upper left\")\n",
        "    plt.show()\n",
        "\n",
        "\n",
        "plot_hist(history)"
      ],
      "metadata": {
        "id": "ZeQDCS6Yqn2n"
      },
      "execution_count": null,
      "outputs": []
    },
    {
      "cell_type": "markdown",
      "source": [
        "## **Evaluating the model**"
      ],
      "metadata": {
        "id": "oMQav1pVqsOI"
      }
    },
    {
      "cell_type": "code",
      "source": [
        "accuracy = model.evaluate(pipeline_validation)[1] * 100\n",
        "print(\"Accuracy: {:.2f}%\".format(accuracy))"
      ],
      "metadata": {
        "id": "nxpz8pR7quBP"
      },
      "execution_count": null,
      "outputs": []
    }
  ]
}